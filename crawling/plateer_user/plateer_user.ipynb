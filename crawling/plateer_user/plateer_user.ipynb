{
 "cells": [
  {
   "cell_type": "code",
   "id": "initial_id",
   "metadata": {
    "collapsed": true,
    "ExecuteTime": {
     "end_time": "2025-01-15T15:48:00.989298Z",
     "start_time": "2025-01-15T15:47:52.797033Z"
    }
   },
   "source": [
    "from selenium import webdriver\n",
    "from selenium.webdriver.common.by import By\n",
    "from selenium.webdriver.common.keys import Keys\n",
    "\n",
    "import pyperclip\n",
    "import time\n",
    "\n",
    "driver = webdriver.Chrome()\n",
    "driver.get(\"https://login.microsoftonline.com/\")\n",
    "time.sleep(1)"
   ],
   "outputs": [],
   "execution_count": 97
  },
  {
   "metadata": {
    "ExecuteTime": {
     "end_time": "2025-01-15T15:48:07.065346Z",
     "start_time": "2025-01-15T15:48:03.377816Z"
    }
   },
   "cell_type": "code",
   "source": [
    "pyperclip.copy(\"아이디\")\n",
    "id_input = driver.find_element(By.CSS_SELECTOR, \"#i0116\")\n",
    "id_input.clear()\n",
    "id_input.send_keys(Keys.COMMAND, 'v', Keys.ENTER)\n",
    "time.sleep(1)\n",
    "\n",
    "pyperclip.copy(\"비밀번호\")\n",
    "pw_input = driver.find_element(By.CSS_SELECTOR, \"#i0118\")\n",
    "pw_input.clear()\n",
    "pw_input.send_keys(Keys.COMMAND, 'v', Keys.ENTER)\n",
    "time.sleep(1)\n",
    "\n",
    "driver.find_element(By.CSS_SELECTOR, \"#idSIButton9\").send_keys(Keys.ENTER)\n",
    "time.sleep(1)\n"
   ],
   "id": "1139df0bc62960f9",
   "outputs": [],
   "execution_count": 98
  },
  {
   "metadata": {
    "ExecuteTime": {
     "end_time": "2025-01-15T15:48:19.710189Z",
     "start_time": "2025-01-15T15:48:12.894633Z"
    }
   },
   "cell_type": "code",
   "source": [
    "driver.get(\"https://gw.plateer.com/\")\n",
    "time.sleep(1)\n",
    "\n",
    "driver.find_element(By.CSS_SELECTOR, \"#tilesHolder > div.tile-container > div > div.table\").click()\n",
    "time.sleep(1)"
   ],
   "id": "b0a6d582614fb829",
   "outputs": [],
   "execution_count": 99
  },
  {
   "metadata": {
    "ExecuteTime": {
     "end_time": "2025-01-15T15:02:45.118684Z",
     "start_time": "2025-01-15T15:02:45.112588Z"
    }
   },
   "cell_type": "code",
   "source": [
    "import os\n",
    "import sys\n",
    "import sqlite3\n",
    "\n",
    "\"\"\"현재 실행 파일의 디렉토리에 SQLite 데이터베이스 파일 경로 반환\"\"\"\n",
    "if getattr(sys, 'frozen', False):  # PyInstaller로 빌드된 경우\n",
    "    app_path = os.path.dirname(sys.executable)\n",
    "elif '__file__' in globals():  # 스크립트로 실행되는 경우\n",
    "    app_path = os.path.dirname(os.path.abspath(__file__))\n",
    "else:\n",
    "    app_path = os.getcwd()\n",
    "\n",
    "db_path = os.path.join(app_path, 'data.db')\n",
    "\n",
    "\n",
    "\n",
    "\"\"\"SQLite 데이터베이스 초기화\"\"\"\n",
    "conn = sqlite3.connect(db_path)\n",
    "cursor = conn.cursor()\n",
    "\n",
    "# 테이블이 없는 경우 생성\n",
    "cursor.execute('''\n",
    "CREATE TABLE IF NOT EXISTS data (\n",
    "    no INTEGER PRIMARY KEY AUTOINCREMENT,\n",
    "    id TEXT UNIQUE NOT NULL,\n",
    "    name TEXT NOT NULL,\n",
    "    birthday TEXT NOT NULL,\n",
    "    department TEXT,\n",
    "    image TEXT\n",
    ")\n",
    "''')\n",
    "\n",
    "conn.commit()\n",
    "conn.close()"
   ],
   "id": "9c230a1b3eb7974",
   "outputs": [],
   "execution_count": 59
  },
  {
   "metadata": {
    "ExecuteTime": {
     "end_time": "2025-01-15T15:51:39.778125Z",
     "start_time": "2025-01-15T15:51:39.771581Z"
    }
   },
   "cell_type": "code",
   "source": [
    "\"\"\"SQLite 데이터베이스에서 저장된 데이터 가져오기\"\"\"\n",
    "search = '검색어'\n",
    "where_name = (f'%{search}%', ) \n",
    "\n",
    "conn = sqlite3.connect(db_path)\n",
    "cursor = conn.cursor()\n",
    "cursor.execute('SELECT * FROM data WHERE name like ?', where_name)\n",
    "rows = cursor.fetchall()\n",
    "conn.close()\n",
    "\n",
    "if rows:\n",
    "    print(\"Stored Data:\")\n",
    "    for row in rows:\n",
    "        print(f\"No: {row[0]}, Name: {row[2]}, ID: {row[1]}, Department: {row[4]}, BirthDay: {row[3]},  Image: {row[5]}\")\n",
    "else:\n",
    "    print(\"No data found in the database.\")"
   ],
   "id": "32841f92fbe469fb",
   "outputs": [
    {
     "name": "stdout",
     "output_type": "stream",
     "text": [
      "Stored Data:\n",
      "No: 68, Name: 김지은, ID: ccomo7071, Department: 프론트개발파트, BirthDay: 1999-03-14,  Image: /ezCommon/downloadAttach.do?&filePath=/fileroot/0/files/upload_personal/photo/ccomo7071.png\n",
      "No: 139, Name: 이지은, ID: jieun_0622, Department: 영업팀, BirthDay: 1993-06-22,  Image: /ezCommon/downloadAttach.do?&filePath=/fileroot/0/files/upload_personal/photo/jieun_0622.png\n",
      "No: 202, Name: 이지은, ID: jieun.lee, Department: EC솔루션개발팀, BirthDay: 1992-09-11,  Image: /ezCommon/downloadAttach.do?&filePath=/fileroot/0/files/upload_personal/photo/jieun.lee.png\n",
      "No: 214, Name: 최지은, ID: jiunny, Department: 데이터컨설팅팀, BirthDay: 1997-09-21,  Image: /ezCommon/downloadAttach.do?&filePath=/fileroot/0/files/upload_personal/photo/jiunny.png\n",
      "No: 254, Name: 손지은, ID: je.son, Department: 마케팅팀, BirthDay: 1990-11-04,  Image: /ezCommon/downloadAttach.do?&filePath=/fileroot/0/files/upload_personal/photo/je.son.png\n",
      "No: 266, Name: 백지은, ID: brie, Department: 고객성공팀, BirthDay: 1997-11-15,  Image: /ezCommon/downloadAttach.do?&filePath=/fileroot/0/files/upload_personal/photo/brie.png\n"
     ]
    }
   ],
   "execution_count": 109
  },
  {
   "metadata": {
    "ExecuteTime": {
     "end_time": "2025-01-15T15:51:38.411452Z",
     "start_time": "2025-01-15T15:51:37.281539Z"
    }
   },
   "cell_type": "code",
   "source": [
    "import requests\n",
    "\n",
    "loginCookie = driver.get_cookie('loginCookie').get(\"value\")\n",
    "header = {\n",
    "    \"Cookie\": f\"loginCookie={loginCookie}\"\n",
    "}\n",
    "\n",
    "conn = sqlite3.connect(db_path)\n",
    "cursor = conn.cursor()\n",
    "\n",
    "data = []\n",
    "cursor.execute('DELETE FROM data')\n",
    "cursor.execute('DELETE FROM sqlite_sequence WHERE name=\"data\"')\n",
    "\n",
    "for month in range( 1, 13 ):\n",
    "    response = requests.get(f\"https://gw.plateer.com/ezNewPortal/getMonthlyBirthdayEmployees.do?birthdayMonth={month}&birthdayCurPage=1&birthdayCount=100\", headers=header)\n",
    "    birthday_list = response.json()['birthdayList']\n",
    "    db_data_info = [(user[\"userId\"], user[\"userName\"], user[\"userBirthday\"], user[\"userDeptName\"], user[\"userImg\"]) for user in birthday_list]\n",
    "    \n",
    "    data = [*data, *db_data_info]\n",
    "    \n",
    "cursor.executemany('INSERT INTO data (id, name, birthday, department, image) VALUES (?, ?, ?, ?, ?)', data)\n",
    "conn.commit()\n",
    "conn.close()\n"
   ],
   "id": "d6b15b65237d6644",
   "outputs": [],
   "execution_count": 108
  },
  {
   "metadata": {
    "ExecuteTime": {
     "end_time": "2025-01-15T15:53:25.239595Z",
     "start_time": "2025-01-15T15:53:24.982210Z"
    }
   },
   "cell_type": "code",
   "source": "driver.quit()",
   "id": "279f37731b409bcf",
   "outputs": [],
   "execution_count": 110
  },
  {
   "metadata": {},
   "cell_type": "code",
   "outputs": [],
   "execution_count": null,
   "source": "",
   "id": "d583f554f940dc21"
  }
 ],
 "metadata": {
  "kernelspec": {
   "display_name": "Python 3",
   "language": "python",
   "name": "python3"
  },
  "language_info": {
   "codemirror_mode": {
    "name": "ipython",
    "version": 2
   },
   "file_extension": ".py",
   "mimetype": "text/x-python",
   "name": "python",
   "nbconvert_exporter": "python",
   "pygments_lexer": "ipython2",
   "version": "2.7.6"
  }
 },
 "nbformat": 4,
 "nbformat_minor": 5
}
